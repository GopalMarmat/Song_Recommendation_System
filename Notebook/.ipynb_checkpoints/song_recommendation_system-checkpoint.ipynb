{
 "cells": [
  {
   "cell_type": "code",
   "execution_count": 127,
   "id": "18afd9e0-811e-443f-ae94-74a91251d26d",
   "metadata": {},
   "outputs": [
    {
     "name": "stdout",
     "output_type": "stream",
     "text": [
      "Collecting implicit\n",
      "  Downloading implicit-0.7.2-cp311-cp311-win_amd64.whl.metadata (6.3 kB)\n",
      "Requirement already satisfied: numpy>=1.17.0 in c:\\users\\hp\\anaconda3\\lib\\site-packages (from implicit) (1.26.4)\n",
      "Requirement already satisfied: scipy>=0.16 in c:\\users\\hp\\anaconda3\\lib\\site-packages (from implicit) (1.11.4)\n",
      "Requirement already satisfied: tqdm>=4.27 in c:\\users\\hp\\anaconda3\\lib\\site-packages (from implicit) (4.65.0)\n",
      "Requirement already satisfied: threadpoolctl in c:\\users\\hp\\anaconda3\\lib\\site-packages (from implicit) (3.5.0)\n",
      "Requirement already satisfied: colorama in c:\\users\\hp\\anaconda3\\lib\\site-packages (from tqdm>=4.27->implicit) (0.4.6)\n",
      "Downloading implicit-0.7.2-cp311-cp311-win_amd64.whl (750 kB)\n",
      "   ---------------------------------------- 0.0/750.8 kB ? eta -:--:--\n",
      "   ------ --------------------------------- 112.6/750.8 kB 3.3 MB/s eta 0:00:01\n",
      "   ------------ --------------------------- 235.5/750.8 kB 2.4 MB/s eta 0:00:01\n",
      "   ------------------------------- -------- 593.9/750.8 kB 3.4 MB/s eta 0:00:01\n",
      "   ---------------------------------------  747.5/750.8 kB 3.4 MB/s eta 0:00:01\n",
      "   ---------------------------------------- 750.8/750.8 kB 2.5 MB/s eta 0:00:00\n",
      "Installing collected packages: implicit\n",
      "Successfully installed implicit-0.7.2\n"
     ]
    }
   ],
   "source": [
    "!pip install implicit"
   ]
  },
  {
   "cell_type": "code",
   "execution_count": 128,
   "id": "64cf168e-d7d4-4de5-9049-f487a9d78d1b",
   "metadata": {},
   "outputs": [],
   "source": [
    "from mlxtend.preprocessing import TransactionEncoder\n",
    "import pandas as pd\n",
    "import numpy as np\n",
    "from scipy.sparse import coo_matrix\n",
    "import os"
   ]
  },
  {
   "cell_type": "code",
   "execution_count": 129,
   "id": "8b786f15-7cbf-428d-b096-cd4db89892fb",
   "metadata": {},
   "outputs": [],
   "source": [
    "directory='C:/Users/HP/Documents/AIML_Project/Song_Recommendation_System/Data'\n",
    "File_name='modified_data.csv'\n",
    "Train_csv_path=os.path.join(directory,File_name)"
   ]
  },
  {
   "cell_type": "code",
   "execution_count": 130,
   "id": "3057161b-7a49-4a5e-bf30-7a183945d621",
   "metadata": {},
   "outputs": [],
   "source": [
    "# Sample data preprocessing\n",
    "data = pd.read_csv(Train_csv_path, encoding='ISO-8859-1')\n",
    "data.drop_duplicates(inplace=True)"
   ]
  },
  {
   "cell_type": "code",
   "execution_count": 131,
   "id": "3a1230d9-6306-4c5b-9b1a-865f4b7a60cf",
   "metadata": {},
   "outputs": [],
   "source": [
    "# Creating a mapping for user_ids and song_ids\n",
    "user_ids = data['user_id'].unique().tolist()\n",
    "song_ids = data['song_id'].unique().tolist()"
   ]
  },
  {
   "cell_type": "code",
   "execution_count": 132,
   "id": "f41ad109-9990-43ee-9b68-de3d58661b56",
   "metadata": {},
   "outputs": [],
   "source": [
    "# Mapping user_ids and song_ids to index\n",
    "user_to_idx = {user: idx for idx, user in enumerate(user_ids)}\n",
    "song_to_idx = {song: idx for idx, song in enumerate(song_ids)}"
   ]
  },
  {
   "cell_type": "code",
   "execution_count": 133,
   "id": "08ee645f-98d1-4b01-a13a-79b3fbde473c",
   "metadata": {},
   "outputs": [],
   "source": [
    "# Apply mapping to the train data\n",
    "data['user_idx'] = data['user_id'].map(user_to_idx)\n",
    "data['song_idx'] = data['song_id'].map(song_to_idx)"
   ]
  },
  {
   "cell_type": "code",
   "execution_count": 134,
   "id": "39331ac2-1025-42ca-bade-2680d262df4d",
   "metadata": {},
   "outputs": [],
   "source": [
    "# Create sparse matrix for training\n",
    "rows = data['user_idx']\n",
    "cols = data['song_idx']\n",
    "count = data['listen_count']"
   ]
  },
  {
   "cell_type": "code",
   "execution_count": 135,
   "id": "d0178332-74e0-459a-a935-6e1ca96d0a5d",
   "metadata": {},
   "outputs": [],
   "source": [
    "# Convert to sparse matrix format\n",
    "train_sparse = coo_matrix((count, (rows, cols)), shape=(len(user_ids), len(song_ids)))"
   ]
  },
  {
   "cell_type": "code",
   "execution_count": 137,
   "id": "d8bd13c4-fc13-4f15-8705-029ad4a2cc1e",
   "metadata": {},
   "outputs": [
    {
     "name": "stderr",
     "output_type": "stream",
     "text": [
      "C:\\Users\\HP\\anaconda3\\Lib\\site-packages\\implicit\\utils.py:164: ParameterWarning: Method expects CSR input, and was passed coo_matrix instead. Converting to CSR took 0.036000967025756836 seconds\n",
      "  warnings.warn(\n",
      "C:\\Users\\HP\\anaconda3\\Lib\\site-packages\\ipywidgets\\widgets\\widget.py:438: DeprecationWarning: The `ipykernel.comm.Comm` class has been deprecated. Please use the `comm` module instead.For creating comms, use the function `from comm import create_comm`.\n",
      "  self.comm = Comm(**args)\n",
      "C:\\Users\\HP\\anaconda3\\Lib\\site-packages\\ipywidgets\\widgets\\widget.py:438: DeprecationWarning: The `ipykernel.comm.Comm` class has been deprecated. Please use the `comm` module instead.For creating comms, use the function `from comm import create_comm`.\n",
      "  self.comm = Comm(**args)\n",
      "C:\\Users\\HP\\anaconda3\\Lib\\site-packages\\ipywidgets\\widgets\\widget.py:438: DeprecationWarning: The `ipykernel.comm.Comm` class has been deprecated. Please use the `comm` module instead.For creating comms, use the function `from comm import create_comm`.\n",
      "  self.comm = Comm(**args)\n",
      "C:\\Users\\HP\\anaconda3\\Lib\\site-packages\\ipywidgets\\widgets\\widget.py:438: DeprecationWarning: The `ipykernel.comm.Comm` class has been deprecated. Please use the `comm` module instead.For creating comms, use the function `from comm import create_comm`.\n",
      "  self.comm = Comm(**args)\n",
      "C:\\Users\\HP\\anaconda3\\Lib\\site-packages\\ipywidgets\\widgets\\widget.py:438: DeprecationWarning: The `ipykernel.comm.Comm` class has been deprecated. Please use the `comm` module instead.For creating comms, use the function `from comm import create_comm`.\n",
      "  self.comm = Comm(**args)\n",
      "C:\\Users\\HP\\anaconda3\\Lib\\site-packages\\ipywidgets\\widgets\\widget.py:438: DeprecationWarning: The `ipykernel.comm.Comm` class has been deprecated. Please use the `comm` module instead.For creating comms, use the function `from comm import create_comm`.\n",
      "  self.comm = Comm(**args)\n",
      "C:\\Users\\HP\\anaconda3\\Lib\\site-packages\\ipywidgets\\widgets\\widget.py:438: DeprecationWarning: The `ipykernel.comm.Comm` class has been deprecated. Please use the `comm` module instead.For creating comms, use the function `from comm import create_comm`.\n",
      "  self.comm = Comm(**args)\n",
      "C:\\Users\\HP\\anaconda3\\Lib\\site-packages\\ipywidgets\\widgets\\widget.py:438: DeprecationWarning: The `ipykernel.comm.Comm` class has been deprecated. Please use the `comm` module instead.For creating comms, use the function `from comm import create_comm`.\n",
      "  self.comm = Comm(**args)\n",
      "C:\\Users\\HP\\anaconda3\\Lib\\site-packages\\ipywidgets\\widgets\\widget.py:438: DeprecationWarning: The `ipykernel.comm.Comm` class has been deprecated. Please use the `comm` module instead.For creating comms, use the function `from comm import create_comm`.\n",
      "  self.comm = Comm(**args)\n",
      "C:\\Users\\HP\\anaconda3\\Lib\\site-packages\\ipywidgets\\widgets\\widget.py:438: DeprecationWarning: The `ipykernel.comm.Comm` class has been deprecated. Please use the `comm` module instead.For creating comms, use the function `from comm import create_comm`.\n",
      "  self.comm = Comm(**args)\n",
      "C:\\Users\\HP\\anaconda3\\Lib\\site-packages\\ipywidgets\\widgets\\widget.py:438: DeprecationWarning: The `ipykernel.comm.Comm` class has been deprecated. Please use the `comm` module instead.For creating comms, use the function `from comm import create_comm`.\n",
      "  self.comm = Comm(**args)\n"
     ]
    },
    {
     "data": {
      "application/vnd.jupyter.widget-view+json": {
       "model_id": "d22407df0d4642cb92adf66ae97d2994",
       "version_major": 2,
       "version_minor": 0
      },
      "text/plain": [
       "  0%|          | 0/15 [00:00<?, ?it/s]"
      ]
     },
     "metadata": {},
     "output_type": "display_data"
    }
   ],
   "source": [
    "# Initialize ALS model\n",
    "als_model = AlternatingLeastSquares(factors=50, regularization=0.01, iterations=15)\n",
    "\n",
    "# Train the ALS model\n",
    "als_model.fit(train_sparse)"
   ]
  },
  {
   "cell_type": "code",
   "execution_count": 138,
   "id": "7236c1a7-3e3c-4ed6-8a22-bbc74a398439",
   "metadata": {},
   "outputs": [],
   "source": [
    "def get_recommendations(user_id, num_recommendations=10):\n",
    "    # Convert the sparse matrix to CSR format for efficient row slicing\n",
    "    train_sparse_csr = train_sparse.tocsr()\n",
    "\n",
    "    # Get the user index from the user_id mapping\n",
    "    user_idx = user_to_idx[user_id]\n",
    "\n",
    "    # Use the ALS model to recommend songs for the user\n",
    "    user_recommendations = als_model.recommend(user_idx, train_sparse_csr[user_idx], N=num_recommendations, filter_already_liked_items=True)\n",
    "\n",
    "    # Extracting song IDs from the recommendations\n",
    "    recommended_song_ids = [song_ids[i] for i in user_recommendations[0]]\n",
    "    \n",
    "    return recommended_song_ids"
   ]
  },
  {
   "cell_type": "code",
   "execution_count": 139,
   "id": "a722e18e-30b8-4cf4-8abc-5d65cdbf0d6c",
   "metadata": {},
   "outputs": [],
   "source": [
    "Val_File_Name='Recommendation_Val.csv'\n",
    "Val_File_Path=os.path.join(directory, Val_File_Name)"
   ]
  },
  {
   "cell_type": "code",
   "execution_count": 145,
   "id": "16f77413-1bab-4c58-9a9e-c2c4ec78cc15",
   "metadata": {},
   "outputs": [],
   "source": [
    "recommendation_df = pd.read_csv(Val_File_Path)"
   ]
  },
  {
   "cell_type": "code",
   "execution_count": 146,
   "id": "0a1ba53c-5700-456e-822f-725ad898951b",
   "metadata": {},
   "outputs": [
    {
     "data": {
      "text/html": [
       "<div>\n",
       "<style scoped>\n",
       "    .dataframe tbody tr th:only-of-type {\n",
       "        vertical-align: middle;\n",
       "    }\n",
       "\n",
       "    .dataframe tbody tr th {\n",
       "        vertical-align: top;\n",
       "    }\n",
       "\n",
       "    .dataframe thead th {\n",
       "        text-align: right;\n",
       "    }\n",
       "</style>\n",
       "<table border=\"1\" class=\"dataframe\">\n",
       "  <thead>\n",
       "    <tr style=\"text-align: right;\">\n",
       "      <th></th>\n",
       "      <th>Unnamed: 0</th>\n",
       "      <th>43683da3c6c5a93c7938ff550faf0d039a9a639a</th>\n",
       "    </tr>\n",
       "  </thead>\n",
       "  <tbody>\n",
       "    <tr>\n",
       "      <th>0</th>\n",
       "      <td>1</td>\n",
       "      <td>85d0d381551960608e02df98956277e495b3cf6b</td>\n",
       "    </tr>\n",
       "    <tr>\n",
       "      <th>1</th>\n",
       "      <td>2</td>\n",
       "      <td>ac1cb58f839ae6773732125e99b4a7394e0661e4</td>\n",
       "    </tr>\n",
       "    <tr>\n",
       "      <th>2</th>\n",
       "      <td>3</td>\n",
       "      <td>9c2032efba612bccec98435a3928b67d69350bed</td>\n",
       "    </tr>\n",
       "    <tr>\n",
       "      <th>3</th>\n",
       "      <td>4</td>\n",
       "      <td>c4bcf00d005e6848a032d94f7fb212f499cdc1ba</td>\n",
       "    </tr>\n",
       "    <tr>\n",
       "      <th>4</th>\n",
       "      <td>5</td>\n",
       "      <td>f927dddfe26b0c74ada3eaadca41bfb462c37ee4</td>\n",
       "    </tr>\n",
       "  </tbody>\n",
       "</table>\n",
       "</div>"
      ],
      "text/plain": [
       "   Unnamed: 0  43683da3c6c5a93c7938ff550faf0d039a9a639a\n",
       "0           1  85d0d381551960608e02df98956277e495b3cf6b\n",
       "1           2  ac1cb58f839ae6773732125e99b4a7394e0661e4\n",
       "2           3  9c2032efba612bccec98435a3928b67d69350bed\n",
       "3           4  c4bcf00d005e6848a032d94f7fb212f499cdc1ba\n",
       "4           5  f927dddfe26b0c74ada3eaadca41bfb462c37ee4"
      ]
     },
     "execution_count": 146,
     "metadata": {},
     "output_type": "execute_result"
    }
   ],
   "source": [
    "recommendation_df.head()"
   ]
  },
  {
   "cell_type": "code",
   "execution_count": 147,
   "id": "d9ca06b8-7928-4f25-b8dc-5a08302c4eb4",
   "metadata": {},
   "outputs": [],
   "source": [
    "recommendation_df.drop(recommendation_df.columns[0],axis=1,inplace=True)"
   ]
  },
  {
   "cell_type": "code",
   "execution_count": 148,
   "id": "40cb09a5-715f-46f8-82fa-3b9d972e13e3",
   "metadata": {},
   "outputs": [
    {
     "data": {
      "text/html": [
       "<div>\n",
       "<style scoped>\n",
       "    .dataframe tbody tr th:only-of-type {\n",
       "        vertical-align: middle;\n",
       "    }\n",
       "\n",
       "    .dataframe tbody tr th {\n",
       "        vertical-align: top;\n",
       "    }\n",
       "\n",
       "    .dataframe thead th {\n",
       "        text-align: right;\n",
       "    }\n",
       "</style>\n",
       "<table border=\"1\" class=\"dataframe\">\n",
       "  <thead>\n",
       "    <tr style=\"text-align: right;\">\n",
       "      <th></th>\n",
       "      <th>43683da3c6c5a93c7938ff550faf0d039a9a639a</th>\n",
       "    </tr>\n",
       "  </thead>\n",
       "  <tbody>\n",
       "    <tr>\n",
       "      <th>0</th>\n",
       "      <td>85d0d381551960608e02df98956277e495b3cf6b</td>\n",
       "    </tr>\n",
       "    <tr>\n",
       "      <th>1</th>\n",
       "      <td>ac1cb58f839ae6773732125e99b4a7394e0661e4</td>\n",
       "    </tr>\n",
       "    <tr>\n",
       "      <th>2</th>\n",
       "      <td>9c2032efba612bccec98435a3928b67d69350bed</td>\n",
       "    </tr>\n",
       "    <tr>\n",
       "      <th>3</th>\n",
       "      <td>c4bcf00d005e6848a032d94f7fb212f499cdc1ba</td>\n",
       "    </tr>\n",
       "    <tr>\n",
       "      <th>4</th>\n",
       "      <td>f927dddfe26b0c74ada3eaadca41bfb462c37ee4</td>\n",
       "    </tr>\n",
       "  </tbody>\n",
       "</table>\n",
       "</div>"
      ],
      "text/plain": [
       "   43683da3c6c5a93c7938ff550faf0d039a9a639a\n",
       "0  85d0d381551960608e02df98956277e495b3cf6b\n",
       "1  ac1cb58f839ae6773732125e99b4a7394e0661e4\n",
       "2  9c2032efba612bccec98435a3928b67d69350bed\n",
       "3  c4bcf00d005e6848a032d94f7fb212f499cdc1ba\n",
       "4  f927dddfe26b0c74ada3eaadca41bfb462c37ee4"
      ]
     },
     "execution_count": 148,
     "metadata": {},
     "output_type": "execute_result"
    }
   ],
   "source": [
    "recommendation_df.head()"
   ]
  },
  {
   "cell_type": "code",
   "execution_count": 149,
   "id": "2ec75649-8caa-4bf2-acb7-d3e335f4cf50",
   "metadata": {},
   "outputs": [],
   "source": [
    "new_row= {recommendation_df.columns[0]: recommendation_df.columns[0]}\n",
    "recommendation_df.loc[len(recommendation_df)]= new_row\n",
    "recommendation_df.to_csv('recommendations.csv', index=False)"
   ]
  },
  {
   "cell_type": "code",
   "execution_count": 151,
   "id": "6300790b-df09-48fe-98eb-a00d96141039",
   "metadata": {},
   "outputs": [],
   "source": [
    "# Prepare recommendations for each user\n",
    "recommendations = []\n",
    "for user in recommendation_df['43683da3c6c5a93c7938ff550faf0d039a9a639a']:\n",
    "    recommended_songs = get_recommendations(user)\n",
    "    recommendations.append([user] + recommended_songs)\n",
    "\n",
    "# Create a DataFrame with the recommended songs\n",
    "recommendation_output = pd.DataFrame(recommendations, columns=['user_id'] + [f'recommended_song_{i+1}' for i in range(10)])\n",
    "\n",
    "# Save the recommendations to a CSV file\n",
    "recommendation_output.to_csv('final_recommendations.csv', index=False)"
   ]
  },
  {
   "cell_type": "code",
   "execution_count": null,
   "id": "027c7688-1c64-4344-b9ab-98f30c5fb10f",
   "metadata": {},
   "outputs": [],
   "source": []
  }
 ],
 "metadata": {
  "kernelspec": {
   "display_name": "Python 3 (ipykernel)",
   "language": "python",
   "name": "python3"
  },
  "language_info": {
   "codemirror_mode": {
    "name": "ipython",
    "version": 3
   },
   "file_extension": ".py",
   "mimetype": "text/x-python",
   "name": "python",
   "nbconvert_exporter": "python",
   "pygments_lexer": "ipython3",
   "version": "3.11.7"
  }
 },
 "nbformat": 4,
 "nbformat_minor": 5
}
